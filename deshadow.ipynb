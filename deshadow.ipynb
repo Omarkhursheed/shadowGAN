{
  "nbformat": 4,
  "nbformat_minor": 0,
  "metadata": {
    "colab": {
      "name": "deshadow.ipynb",
      "version": "0.3.2",
      "provenance": [],
      "include_colab_link": true
    },
    "kernelspec": {
      "name": "python3",
      "display_name": "Python 3"
    },
    "accelerator": "GPU"
  },
  "cells": [
    {
      "cell_type": "markdown",
      "metadata": {
        "id": "view-in-github",
        "colab_type": "text"
      },
      "source": [
        "<a href=\"https://colab.research.google.com/github/Omarkhursheed/shadowGAN/blob/master/deshadow.ipynb\" target=\"_parent\"><img src=\"https://colab.research.google.com/assets/colab-badge.svg\" alt=\"Open In Colab\"/></a>"
      ]
    },
    {
      "cell_type": "code",
      "metadata": {
        "id": "_py5-FhjgjoF",
        "colab_type": "code",
        "outputId": "1b658007-ccae-4b0f-dae4-82d5330356a2",
        "colab": {
          "base_uri": "https://localhost:8080/",
          "height": 204
        }
      },
      "source": [
        "!wget http://www.cse.iitd.ac.in/mavi/datasets/signboard_dataset.tar.gz"
      ],
      "execution_count": 1,
      "outputs": [
        {
          "output_type": "stream",
          "text": [
            "--2019-07-09 12:07:52--  http://www.cse.iitd.ac.in/mavi/datasets/signboard_dataset.tar.gz\n",
            "Resolving www.cse.iitd.ac.in (www.cse.iitd.ac.in)... 103.27.9.152\n",
            "Connecting to www.cse.iitd.ac.in (www.cse.iitd.ac.in)|103.27.9.152|:80... connected.\n",
            "HTTP request sent, awaiting response... 200 OK\n",
            "Length: 91720231 (87M) [application/x-gzip]\n",
            "Saving to: ‘signboard_dataset.tar.gz’\n",
            "\n",
            "signboard_dataset.t 100%[===================>]  87.47M  4.49MB/s    in 30s     \n",
            "\n",
            "2019-07-09 12:08:28 (2.89 MB/s) - ‘signboard_dataset.tar.gz’ saved [91720231/91720231]\n",
            "\n"
          ],
          "name": "stdout"
        }
      ]
    },
    {
      "cell_type": "code",
      "metadata": {
        "id": "9a1frGUNozQC",
        "colab_type": "code",
        "colab": {}
      },
      "source": [
        "from fastai.vision import *\n",
        "from fastai import *"
      ],
      "execution_count": 0,
      "outputs": []
    },
    {
      "cell_type": "code",
      "metadata": {
        "id": "0zA7qWmthop5",
        "colab_type": "code",
        "outputId": "43f8895d-e5a2-43ce-f62d-581634ca6afc",
        "colab": {
          "base_uri": "https://localhost:8080/",
          "height": 68
        }
      },
      "source": [
        "!tar -xzf /content/signboard_dataset.tar.gz\n",
        "imgs = ImageList.from_folder('/content/signboard_dataset'); imgs"
      ],
      "execution_count": 4,
      "outputs": [
        {
          "output_type": "execute_result",
          "data": {
            "text/plain": [
              "ImageList (1493 items)\n",
              "Image (3, 480, 640),Image (3, 480, 640),Image (3, 480, 640),Image (3, 480, 640),Image (3, 480, 640)\n",
              "Path: /content/signboard_dataset"
            ]
          },
          "metadata": {
            "tags": []
          },
          "execution_count": 4
        }
      ]
    },
    {
      "cell_type": "code",
      "metadata": {
        "id": "5gmeP0Ydi-kI",
        "colab_type": "code",
        "outputId": "5a66d00b-3e30-4f18-8808-edfdceef5d30",
        "colab": {
          "base_uri": "https://localhost:8080/",
          "height": 1000
        }
      },
      "source": [
        "import glob\n",
        "import os\n",
        "import xml.etree.cElementTree as ET\n",
        "\n",
        "xml_file_list = []\n",
        "for file in glob.glob(\"/content/signboard_dataset/*/*.xml\", recursive = True):\n",
        "    x = file\n",
        "    tree = ET.parse(x)\n",
        "    root = tree.getroot() \n",
        "    root_tag = root.tag    \n",
        "    if (root[1][1].text)\n",
        "    \n",
        ";\n"
      ],
      "execution_count": 25,
      "outputs": [
        {
          "output_type": "stream",
          "text": [
            "N\n",
            "Y\n",
            "N\n",
            "N\n",
            "N\n",
            "N\n",
            "N\n",
            "N\n",
            "N\n",
            "N\n",
            "N\n",
            "N\n",
            "N\n",
            "N\n",
            "N\n",
            "N\n",
            "N\n",
            "N\n",
            "N\n",
            "N\n",
            "N\n",
            "N\n",
            "N\n",
            "N\n",
            "N\n",
            "N\n",
            "N\n",
            "N\n",
            "N\n",
            "N\n",
            "N\n",
            "N\n",
            "N\n",
            "N\n",
            "N\n",
            "N\n",
            "N\n",
            "N\n",
            "N\n",
            "N\n",
            "N\n",
            "N\n",
            "N\n",
            "N\n",
            "N\n",
            "N\n",
            "N\n",
            "N\n",
            "N\n",
            "N\n",
            "N\n",
            "N\n",
            "N\n",
            "N\n",
            "N\n",
            "N\n",
            "N\n",
            "N\n",
            "N\n",
            "N\n",
            "N\n",
            "N\n",
            "N\n",
            "N\n",
            "N\n",
            "N\n",
            "N\n",
            "N\n",
            "N\n",
            "N\n",
            "N\n",
            "N\n",
            "N\n",
            "N\n",
            "N\n",
            "N\n",
            "N\n",
            "Y\n",
            "N\n",
            "N\n",
            "Y\n",
            "N\n",
            "N\n",
            "N\n",
            "N\n",
            "Y\n",
            "Y\n",
            "Y\n",
            "Y\n",
            "Y\n",
            "N\n",
            "N\n",
            "N\n",
            "N\n",
            "N\n",
            "N\n",
            "N\n",
            "N\n",
            "N\n",
            "N\n",
            "N\n",
            "N\n",
            "N\n",
            "N\n",
            "N\n",
            "N\n",
            "N\n",
            "N\n",
            "N\n",
            "N\n",
            "N\n",
            "N\n",
            "N\n",
            "N\n",
            "N\n",
            "N\n",
            "N\n",
            "N\n",
            "N\n",
            "N\n",
            "N\n",
            "N\n",
            "N\n",
            "N\n",
            "N\n",
            "N\n",
            "N\n",
            "N\n",
            "N\n",
            "N\n",
            "N\n",
            "N\n",
            "N\n",
            "N\n",
            "N\n",
            "N\n",
            "N\n",
            "N\n",
            "N\n",
            "N\n",
            "N\n",
            "N\n",
            "N\n",
            "N\n",
            "N\n",
            "N\n",
            "N\n",
            "N\n",
            "N\n",
            "N\n",
            "N\n",
            "N\n",
            "N\n",
            "N\n",
            "N\n",
            "N\n",
            "N\n",
            "N\n",
            "N\n",
            "N\n",
            "N\n",
            "N\n",
            "N\n",
            "N\n",
            "N\n",
            "N\n",
            "N\n",
            "N\n",
            "N\n",
            "N\n",
            "N\n",
            "N\n",
            "N\n",
            "N\n",
            "N\n",
            "N\n",
            "N\n",
            "N\n",
            "N\n",
            "N\n",
            "N\n",
            "N\n",
            "N\n",
            "N\n",
            "N\n",
            "N\n",
            "N\n",
            "N\n",
            "N\n",
            "Y\n",
            "N\n",
            "N\n",
            "N\n",
            "N\n",
            "N\n",
            "N\n",
            "N\n",
            "Y\n",
            "N\n",
            "N\n",
            "N\n",
            "N\n",
            "Y\n",
            "N\n",
            "N\n",
            "N\n"
          ],
          "name": "stdout"
        },
        {
          "output_type": "error",
          "ename": "ParseError",
          "evalue": "ignored",
          "traceback": [
            "\u001b[0;36m  File \u001b[0;32m\"<string>\"\u001b[0;36m, line \u001b[0;32munknown\u001b[0m\n\u001b[0;31mParseError\u001b[0m\u001b[0;31m:\u001b[0m mismatched tag: line 43, column 3\n"
          ]
        }
      ]
    },
    {
      "cell_type": "code",
      "metadata": {
        "id": "cmwXKVeYmU7X",
        "colab_type": "code",
        "colab": {}
      },
      "source": [
        ""
      ],
      "execution_count": 0,
      "outputs": []
    }
  ]
}