{
  "nbformat": 4,
  "nbformat_minor": 0,
  "metadata": {
    "colab": {
      "name": "deshadow.ipynb",
      "version": "0.3.2",
      "provenance": [],
      "include_colab_link": true
    },
    "kernelspec": {
      "name": "python3",
      "display_name": "Python 3"
    },
    "accelerator": "GPU"
  },
  "cells": [
    {
      "cell_type": "markdown",
      "metadata": {
        "id": "view-in-github",
        "colab_type": "text"
      },
      "source": [
        "<a href=\"https://colab.research.google.com/github/Omarkhursheed/shadowGAN/blob/master/deshadow.ipynb\" target=\"_parent\"><img src=\"https://colab.research.google.com/assets/colab-badge.svg\" alt=\"Open In Colab\"/></a>"
      ]
    },
    {
      "cell_type": "code",
      "metadata": {
        "id": "_py5-FhjgjoF",
        "colab_type": "code",
        "outputId": "1b658007-ccae-4b0f-dae4-82d5330356a2",
        "colab": {
          "base_uri": "https://localhost:8080/",
          "height": 204
        }
      },
      "source": [
        "!wget http://www.cse.iitd.ac.in/mavi/datasets/signboard_dataset.tar.gz"
      ],
      "execution_count": 1,
      "outputs": [
        {
          "output_type": "stream",
          "text": [
            "--2019-07-09 12:07:52--  http://www.cse.iitd.ac.in/mavi/datasets/signboard_dataset.tar.gz\n",
            "Resolving www.cse.iitd.ac.in (www.cse.iitd.ac.in)... 103.27.9.152\n",
            "Connecting to www.cse.iitd.ac.in (www.cse.iitd.ac.in)|103.27.9.152|:80... connected.\n",
            "HTTP request sent, awaiting response... 200 OK\n",
            "Length: 91720231 (87M) [application/x-gzip]\n",
            "Saving to: ‘signboard_dataset.tar.gz’\n",
            "\n",
            "signboard_dataset.t 100%[===================>]  87.47M  4.49MB/s    in 30s     \n",
            "\n",
            "2019-07-09 12:08:28 (2.89 MB/s) - ‘signboard_dataset.tar.gz’ saved [91720231/91720231]\n",
            "\n"
          ],
          "name": "stdout"
        }
      ]
    },
    {
      "cell_type": "code",
      "metadata": {
        "id": "9a1frGUNozQC",
        "colab_type": "code",
        "colab": {}
      },
      "source": [
        "from fastai.vision import *\n",
        "from fastai import *"
      ],
      "execution_count": 0,
      "outputs": []
    },
    {
      "cell_type": "code",
      "metadata": {
        "id": "0zA7qWmthop5",
        "colab_type": "code",
        "outputId": "43f8895d-e5a2-43ce-f62d-581634ca6afc",
        "colab": {
          "base_uri": "https://localhost:8080/",
          "height": 68
        }
      },
      "source": [
        "!tar -xzf /content/signboard_dataset.tar.gz\n",
        "imgs = ImageList.from_folder('/content/signboard_dataset'); imgs"
      ],
      "execution_count": 4,
      "outputs": [
        {
          "output_type": "execute_result",
          "data": {
            "text/plain": [
              "ImageList (1493 items)\n",
              "Image (3, 480, 640),Image (3, 480, 640),Image (3, 480, 640),Image (3, 480, 640),Image (3, 480, 640)\n",
              "Path: /content/signboard_dataset"
            ]
          },
          "metadata": {
            "tags": []
          },
          "execution_count": 4
        }
      ]
    },
    {
      "cell_type": "code",
      "metadata": {
        "id": "cmwXKVeYmU7X",
        "colab_type": "code",
        "colab": {}
      },
      "source": [
        ""
      ],
      "execution_count": 0,
      "outputs": []
    }
  ]
}